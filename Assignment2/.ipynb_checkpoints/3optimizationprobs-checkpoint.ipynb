{
 "cells": [
  {
   "cell_type": "markdown",
   "id": "6f01b7af",
   "metadata": {},
   "source": [
    "### Imports"
   ]
  },
  {
   "cell_type": "code",
   "execution_count": 70,
   "id": "d106764a",
   "metadata": {},
   "outputs": [],
   "source": [
    "import pandas as pd\n",
    "import numpy as np\n",
    "import matplotlib.pyplot as plt\n",
    "from itertools import product\n",
    "import copy\n",
    "\n",
    "%matplotlib inline\n",
    "import time\n",
    "\n",
    "try:\n",
    "    import mlrose_hiive as mlrh\n",
    "except:\n",
    "     !pip install mlrose-hiive\n",
    "\n"
   ]
  },
  {
   "cell_type": "markdown",
   "id": "d861a752",
   "metadata": {},
   "source": [
    "### Four peaks problem"
   ]
  },
  {
   "cell_type": "code",
   "execution_count": 52,
   "id": "5608c669",
   "metadata": {},
   "outputs": [
    {
     "ename": "KeyboardInterrupt",
     "evalue": "",
     "output_type": "error",
     "traceback": [
      "\u001b[0;31m---------------------------------------------------------------------------\u001b[0m",
      "\u001b[0;31mKeyboardInterrupt\u001b[0m                         Traceback (most recent call last)",
      "\u001b[0;32m<ipython-input-52-08528e5c20ea>\u001b[0m in \u001b[0;36m<module>\u001b[0;34m\u001b[0m\n\u001b[1;32m     43\u001b[0m \u001b[0;32mfor\u001b[0m \u001b[0mi\u001b[0m \u001b[0;32min\u001b[0m \u001b[0mx\u001b[0m\u001b[0;34m:\u001b[0m\u001b[0;34m\u001b[0m\u001b[0;34m\u001b[0m\u001b[0m\n\u001b[1;32m     44\u001b[0m     \u001b[0mval\u001b[0m \u001b[0;34m=\u001b[0m \u001b[0mevaluate\u001b[0m\u001b[0;34m(\u001b[0m\u001b[0;36m0.1\u001b[0m\u001b[0;34m,\u001b[0m \u001b[0mi\u001b[0m\u001b[0;34m)\u001b[0m\u001b[0;34m\u001b[0m\u001b[0;34m\u001b[0m\u001b[0m\n\u001b[0;32m---> 45\u001b[0;31m     \u001b[0mvalues\u001b[0m\u001b[0;34m.\u001b[0m\u001b[0mappend\u001b[0m\u001b[0;34m(\u001b[0m\u001b[0mval\u001b[0m\u001b[0;34m)\u001b[0m\u001b[0;34m\u001b[0m\u001b[0;34m\u001b[0m\u001b[0m\n\u001b[0m\u001b[1;32m     46\u001b[0m \u001b[0;34m\u001b[0m\u001b[0m\n\u001b[1;32m     47\u001b[0m \u001b[0mplt\u001b[0m\u001b[0;34m.\u001b[0m\u001b[0mfigure\u001b[0m\u001b[0;34m(\u001b[0m\u001b[0mfigsize\u001b[0m\u001b[0;34m=\u001b[0m\u001b[0;34m(\u001b[0m\u001b[0;36m18\u001b[0m\u001b[0;34m,\u001b[0m \u001b[0;36m8\u001b[0m\u001b[0;34m)\u001b[0m\u001b[0;34m,\u001b[0m \u001b[0mdpi\u001b[0m\u001b[0;34m=\u001b[0m\u001b[0;36m80\u001b[0m\u001b[0;34m)\u001b[0m\u001b[0;34m\u001b[0m\u001b[0;34m\u001b[0m\u001b[0m\n",
      "\u001b[0;31mKeyboardInterrupt\u001b[0m: "
     ]
    }
   ],
   "source": [
    "# ----- visualizing the 4 peaks problem -----------\n",
    "values = []\n",
    "\n",
    "def evaluate(t_pct, state):\n",
    "        _n = len(state)\n",
    "        _t = np.ceil(t_pct*_n)\n",
    "        tail_0 = tail(0, state)\n",
    "        head_1 = head(1, state)\n",
    "        \n",
    "        if (tail_0 > _t and head_1 > _t):\n",
    "            _r = _n\n",
    "        else:\n",
    "            _r = 0\n",
    "        fitness = max(tail_0, head_1) + _r\n",
    "        return fitness\n",
    "    \n",
    "\n",
    "def head(_b, _x):\n",
    "    _head = 0\n",
    "    for i in _x:\n",
    "        if i == _b:\n",
    "            _head += 1\n",
    "        else:\n",
    "            break\n",
    "\n",
    "    return _head\n",
    "\n",
    "\n",
    "def tail(_b, _x):\n",
    "    _tail = 0\n",
    "    for i in range(len(_x)):\n",
    "        if _x[len(_x) - i - 1] == _b:\n",
    "            _tail += 1\n",
    "        else:\n",
    "            break\n",
    "\n",
    "    return _tail\n",
    "\n",
    "\n",
    "x = [i for i in product(range(2), repeat=20)]\n",
    "x = np.array(x)\n",
    "\n",
    "for i in x:\n",
    "    val = evaluate(0.1, i)\n",
    "    values.append(val)\n",
    "\n",
    "plt.figure(figsize=(18, 8), dpi=80)\n",
    "plt.plot(values)\n",
    "plt.xticks(np.arange(len(x)), x)\n",
    "plt.show()"
   ]
  },
  {
   "cell_type": "markdown",
   "id": "d861492d",
   "metadata": {},
   "source": [
    "### Applying RHC,SA, GA and mimic to 4 peaks"
   ]
  },
  {
   "cell_type": "code",
   "execution_count": 14,
   "id": "91831161",
   "metadata": {},
   "outputs": [],
   "source": []
  },
  {
   "cell_type": "markdown",
   "id": "71acb3ff",
   "metadata": {},
   "source": [
    "#### All four algorithms"
   ]
  },
  {
   "cell_type": "code",
   "execution_count": 46,
   "id": "847d6b07",
   "metadata": {},
   "outputs": [],
   "source": [
    "def sim_ann(problem, fitness, schedule, traintimes, max_values, function_evals, init_state):\n",
    "    s = time.time()\n",
    "    best_state, best_fitness, sa_curve = mlrh.simulated_annealing(problem, schedule = schedule,\n",
    "                                                          max_attempts = 10,\n",
    "                                                          init_state = init_state, random_state = 1, curve=True)\n",
    "    e= time.time()\n",
    "    traintime = e - s\n",
    "    traintimes['sa'] = traintime\n",
    "    max_values['sa'] = best_fitness\n",
    "    function_evals['sa'] = sa_curve[-1, 1]\n",
    "    return sa_curve, traintimes, max_values, function_evals\n",
    "    \n",
    "def rhc_mine(problem, fitness, rs, init_state,traintimes, max_values, function_evals):\n",
    "    s = time.time()\n",
    "    best_state, best_fitness, curve = mlrh.random_hill_climb(problem, restarts = rs,\n",
    "                                                          max_attempts = 10,\n",
    "                                                          init_state = init_state, random_state = 1, curve=True)\n",
    "    e= time.time()\n",
    "    traintime = e - s\n",
    "    traintimes['rhc'] = traintime\n",
    "    max_values['rhc'] = best_fitness\n",
    "    function_evals['rhc'] = curve[-1, 1]\n",
    "    return curve, traintimes, max_values, function_evals\n",
    "    \n",
    "def ga_mine(problem, fitness, mutation, pop, traintimes, max_values, function_evals):\n",
    "    s= time.time()\n",
    "    best_state, best_fitness, curve = mlrh.genetic_alg(problem, mutation_prob=mutation, pop_size=pop,\n",
    "                                                          max_attempts = 20, random_state = 1, curve=True)\n",
    "    e= time.time()\n",
    "    traintime = e - s\n",
    "    traintimes['ga'] = traintime\n",
    "    max_values['ga'] = best_fitness\n",
    "    function_evals['ga'] = curve[-1, 1]\n",
    "    return curve, traintimes, max_values, function_evals\n",
    "    \n",
    "def mimic_mine(problem, fitness, keep_pct, pop, traintimes, max_values, function_evals):\n",
    "    s= time.time()\n",
    "    best_state, best_fitness, curve = mlrh.mimic(problem, keep_pct=keep_pct, pop_size=pop,\n",
    "                                                          max_attempts = 20, random_state = 1, curve=True)\n",
    "    e= time.time()\n",
    "    traintime = e - s\n",
    "    traintimes['mimic'] = traintime\n",
    "    max_values['mimic'] = best_fitness\n",
    "    function_evals['mimic'] = curve[-1, 1]\n",
    "    return curve, traintimes, max_values, function_evals\n",
    "\n",
    "    \n"
   ]
  },
  {
   "cell_type": "markdown",
   "id": "4fb42b06",
   "metadata": {},
   "source": [
    "## calling all methods for 4 peaks\n",
    "With a bigger input X, I expect MIMIC and GA to outperform the RHC and SA"
   ]
  },
  {
   "cell_type": "code",
   "execution_count": null,
   "id": "99eddb2d",
   "metadata": {},
   "outputs": [
    {
     "data": {
      "image/png": "[encoded data removed]",
      "text/plain": [
       "<Figure size 432x288 with 1 Axes>"
      ]
     },
     "metadata": {
      "needs_background": "light"
     },
     "output_type": "display_data"
    },
    {
     "data": {
      "image/png": "[encoded data removed]",
      "text/plain": [
       "<Figure size 432x288 with 1 Axes>"
      ]
     },
     "metadata": {
      "needs_background": "light"
     },
     "output_type": "display_data"
    },
    {
     "data": {
      "image/png": "[encoded data removed]",
      "text/plain": [
       "<Figure size 432x288 with 1 Axes>"
      ]
     },
     "metadata": {
      "needs_background": "light"
     },
     "output_type": "display_data"
    },
    {
     "data": {
      "image/png": "[encoded data removed]",
      "text/plain": [
       "<Figure size 432x288 with 1 Axes>"
      ]
     },
     "metadata": {
      "needs_background": "light"
     },
     "output_type": "display_data"
    }
   ],
   "source": [
    "traintimes ={}\n",
    "max_values = {}\n",
    "function_evals={}\n",
    "\n",
    "len_prob = 60\n",
    "fitness_4peaks = mlrh.FourPeaks(t_pct=0.1)\n",
    "problem_4peaks = mlrh.DiscreteOpt(length = len_prob, fitness_fn = fitness_4peaks, maximize = True)\n",
    "schedule = mlrh.ExpDecay()\n",
    "\n",
    "def run_all(problem, fitness, justcurves,  traintimes ,max_values, function_evals, args):\n",
    "    schedule = args['schedule']\n",
    "    init_state = args['init_state']\n",
    "    \n",
    "    curvega, traintimes, max_values, function_evals = ga_mine(problem=problem, fitness=fitness, mutation=0.001, pop=100,\n",
    "                                            traintimes=traintimes ,max_values=max_values, function_evals=function_evals)   \n",
    "\n",
    "    curvesa, traintimes, max_values, function_evals = sim_ann(problem=problem, fitness=fitness, schedule=schedule,\n",
    "                                  init_state=init_state, traintimes=traintimes ,max_values=max_values, function_evals=function_evals)  \n",
    "\n",
    "    curverhc, traintimes, max_values, function_evals = rhc_mine(problem=problem, fitness=fitness, rs=10, \n",
    "                                                                init_state=init_state,\n",
    "                                         traintimes=traintimes ,max_values=max_values, function_evals=function_evals)  \n",
    "\n",
    "    curvemimic, traintimes, max_values, function_evals = mimic_mine(problem=problem, fitness=fitness,  keep_pct=0.2, pop=200, \n",
    "                                     traintimes=traintimes ,max_values=max_values, function_evals=function_evals)  \n",
    "    if justcurves:\n",
    "        figure, axis = plt.subplots(1, 1)\n",
    "        plt.plot(curvega[:,0], label='GA')\n",
    "        plt.plot(curvesa[:,0], label='SA')\n",
    "        plt.plot(curverhc[:,0], label='RHC')\n",
    "        plt.plot(curvemimic[:,0], label='MIMIC')\n",
    "        plt.legend()\n",
    "        plt.title('Fitness curves')\n",
    "        plt.xlabel('Iterations')\n",
    "        plt.ylabel('Fitness values')\n",
    "        plt.show()\n",
    "        \n",
    "    return traintimes, max_values, function_evals\n",
    "\n",
    "len_prob = [10, 30, 50, 70, 80]\n",
    "\n",
    "tts = []\n",
    "mvs = []\n",
    "fes = []\n",
    "\n",
    "for l in len_prob:\n",
    "    fitness_4peaks = mlrh.FourPeaks(t_pct=0.1)\n",
    "    problem_4peaks = mlrh.DiscreteOpt(length = l, fitness_fn = fitness_4peaks, maximize = True)\n",
    "\n",
    "    \n",
    "    args={}\n",
    "    args['schedule'] = schedule\n",
    "    args['init_state'] = [0] + [1] +[0]*(l - 2)\n",
    "\n",
    "    tt, mv, fe = run_all(problem_4peaks, fitness_4peaks, True, traintimes ,max_values, function_evals, args)\n",
    "    tts.append(copy.deepcopy(tt))\n",
    "    mvs.append(copy.deepcopy(mv))\n",
    "    fes.append(copy.deepcopy(fe))\n",
    "    \n",
    "plot_maxs = False\n",
    "if plot_maxs:\n",
    "    ga_tts = [v for l in tts for k,v in l.items() if k == 'ga' ]\n",
    "    sa_tts = [v for l in tts for k,v in l.items() if k == 'sa' ]\n",
    "    rhc_tts = [v for l in tts for k,v in l.items() if k == 'rhc' ]\n",
    "    mimic_tts = [v for l in tts for k,v in l.items() if k == 'mimic' ]\n",
    "    \n",
    "    ga_mvs = [v for l in mvs for k,v in l.items() if k == 'ga' ]\n",
    "    sa_mvs = [v for l in mvs for k,v in l.items() if k == 'sa' ]\n",
    "    rhc_mvs = [v for l in mvs for k,v in l.items() if k == 'rhc' ]\n",
    "    mimic_mvs = [v for l in mvs for k,v in l.items() if k == 'mimic' ]\n",
    "    \n",
    "    ga_fes = [v for l in fes for k,v in l.items() if k == 'ga' ]\n",
    "    sa_fes = [v for l in fes for k,v in l.items() if k == 'sa' ]\n",
    "    rhc_fes = [v for l in fes for k,v in l.items() if k == 'rhc' ]\n",
    "    mimic_fes = [v for l in fes for k,v in l.items() if k == 'mimic' ]\n",
    "    \n",
    "    figure, axis = plt.subplots(1, 3, figsize=(18, 5))\n",
    "    axis[0].plot(len_prob, ga_mvs, label='GA')\n",
    "    axis[0].plot(len_prob, sa_mvs, label='SA')\n",
    "    axis[0].plot(len_prob, rhc_mvs, label='RHC')\n",
    "    axis[0].plot(len_prob, mimic_mvs, label='MIMIC')\n",
    "    \n",
    "    axis[0].set_xlabel('Problem size')\n",
    "    axis[0].set_ylabel('Max fitness')\n",
    "    axis[0].legend()\n",
    "    \n",
    "    axis[1].plot(len_prob, ga_tts, label='GA')\n",
    "    axis[1].plot(len_prob, sa_tts, label='SA')\n",
    "    axis[1].plot(len_prob, rhc_tts, label='RHC')\n",
    "    axis[1].plot(len_prob, mimic_tts, label='MIMIC')\n",
    "    axis[1].set_xlabel('Problem size')\n",
    "    axis[1].set_ylabel('Train times')\n",
    "    axis[1].legend()\n",
    "\n",
    "    \n",
    "    axis[2].plot(len_prob, ga_fes, label='GA')\n",
    "    axis[2].plot(len_prob, sa_fes, label='SA')\n",
    "    axis[2].plot(len_prob, rhc_fes, label='RHC')\n",
    "    axis[2].plot(len_prob, mimic_fes, label='MIMIC')\n",
    "    axis[2].set_xlabel('Problem size')\n",
    "    axis[2].set_ylabel('Function Evaluations')\n",
    "    axis[2].legend()\n",
    "    plt.show()       "
   ]
  },
  {
   "cell_type": "markdown",
   "id": "852a4d10",
   "metadata": {},
   "source": [
    "#### OneMax Problem\n",
    "I expect SA and RHC to perform better because there are no local minima/maxima. it should be easier to find the maxima"
   ]
  },
  {
   "cell_type": "code",
   "execution_count": null,
   "id": "9621c959",
   "metadata": {},
   "outputs": [],
   "source": [
    "len_prob = 5\n",
    "fitness_1max = mlrh.OneMax()\n",
    "problem_1max = mlrh.DiscreteOpt(length = len_prob, fitness_fn = fitness_1max, maximize = True)\n",
    "\n",
    "schedule = mlrh.ExpDecay()"
   ]
  },
  {
   "cell_type": "code",
   "execution_count": null,
   "id": "59dcbdf5",
   "metadata": {},
   "outputs": [],
   "source": [
    "traintimes ={}\n",
    "max_values = {}\n",
    "function_evals={}\n",
    "\n",
    "def run_all(problem, fitness, justcurves,  traintimes ,max_values, function_evals, args):\n",
    "    schedule = args['schedule']\n",
    "    init_state = args['init_state']\n",
    "    \n",
    "    curvega, traintimes, max_values, function_evals = ga_mine(problem=problem, fitness=fitness, mutation=0.001, pop=100,\n",
    "                                            traintimes=traintimes ,max_values=max_values, function_evals=function_evals)   \n",
    "\n",
    "    curvesa, traintimes, max_values, function_evals = sim_ann(problem=problem, fitness=fitness, schedule=schedule,\n",
    "                                  init_state=init_state, traintimes=traintimes ,max_values=max_values, function_evals=function_evals)  \n",
    "\n",
    "    curverhc, traintimes, max_values, function_evals = rhc_mine(problem=problem, fitness=fitness, rs=10, \n",
    "                                                                init_state=init_state,\n",
    "                                         traintimes=traintimes ,max_values=max_values, function_evals=function_evals)  \n",
    "\n",
    "    curvemimic, traintimes, max_values, function_evals = mimic_mine(problem=problem, fitness=fitness,  keep_pct=0.1, pop=100, \n",
    "                                     traintimes=traintimes ,max_values=max_values, function_evals=function_evals)  \n",
    "    if justcurves:\n",
    "        figure, axis = plt.subplots(1, 1)\n",
    "        plt.plot(curvega[:,0], label='GA')\n",
    "        plt.plot(curvesa[:,0], label='SA')\n",
    "        plt.plot(curverhc[:,0], label='RHC')\n",
    "        plt.plot(curvemimic[:,0], label='MIMIC')\n",
    "        plt.legend()\n",
    "        plt.title('Fitness curves')\n",
    "        plt.xlabel('Iterations')\n",
    "        plt.ylabel('Fitness values')\n",
    "        plt.show()\n",
    "        \n",
    "    return traintimes, max_values, function_evals\n",
    "\n",
    "len_prob = [10]\n",
    "\n",
    "tts = []\n",
    "mvs = []\n",
    "fes = []\n",
    "\n",
    "for l in len_prob:\n",
    "    fitness_1max = mlrh.OneMax()\n",
    "    problem_1max = mlrh.DiscreteOpt(length = l, fitness_fn = fitness_1max, maximize = True)\n",
    "\n",
    "    \n",
    "    args={}\n",
    "    args['schedule'] = schedule\n",
    "    args['init_state'] = [0] + [1] +[0]*(l - 2)\n",
    "\n",
    "    tt, mv, fe = run_all(problem_4peaks, fitness_4peaks, False, traintimes ,max_values, function_evals, args)\n",
    "    tts.append(copy.deepcopy(tt))\n",
    "    mvs.append(copy.deepcopy(mv))\n",
    "    fes.append(copy.deepcopy(fe))\n",
    "    \n",
    "plot_maxs = False\n",
    "if plot_maxs:\n",
    "    ga_tts = [v for l in tts for k,v in l.items() if k == 'ga' ]\n",
    "    sa_tts = [v for l in tts for k,v in l.items() if k == 'sa' ]\n",
    "    rhc_tts = [v for l in tts for k,v in l.items() if k == 'rhc' ]\n",
    "    mimic_tts = [v for l in tts for k,v in l.items() if k == 'mimic' ]\n",
    "    \n",
    "    ga_mvs = [v for l in mvs for k,v in l.items() if k == 'ga' ]\n",
    "    sa_mvs = [v for l in mvs for k,v in l.items() if k == 'sa' ]\n",
    "    rhc_mvs = [v for l in mvs for k,v in l.items() if k == 'rhc' ]\n",
    "    mimic_mvs = [v for l in mvs for k,v in l.items() if k == 'mimic' ]\n",
    "    \n",
    "    ga_fes = [v for l in fes for k,v in l.items() if k == 'ga' ]\n",
    "    sa_fes = [v for l in fes for k,v in l.items() if k == 'sa' ]\n",
    "    rhc_fes = [v for l in fes for k,v in l.items() if k == 'rhc' ]\n",
    "    mimic_fes = [v for l in fes for k,v in l.items() if k == 'mimic' ]\n",
    "    \n",
    "    figure, axis = plt.subplots(1, 3, figsize=(18, 5))\n",
    "    axis[0].plot(len_prob, ga_mvs, label='GA')\n",
    "    axis[0].plot(len_prob, sa_mvs, label='SA')\n",
    "    axis[0].plot(len_prob, rhc_mvs, label='RHC')\n",
    "    axis[0].plot(len_prob, mimic_mvs, label='MIMIC')\n",
    "    \n",
    "    axis[0].set_xlabel('Problem size')\n",
    "    axis[0].set_ylabel('Max fitness')\n",
    "    axis[0].legend()\n",
    "    \n",
    "    axis[1].plot(len_prob, ga_tts, label='GA')\n",
    "    axis[1].plot(len_prob, sa_tts, label='SA')\n",
    "    axis[1].plot(len_prob, rhc_tts, label='RHC')\n",
    "    axis[1].plot(len_prob, mimic_tts, label='MIMIC')\n",
    "    axis[1].set_xlabel('Problem size')\n",
    "    axis[1].set_ylabel('Train times')\n",
    "    axis[1].legend()\n",
    "\n",
    "    \n",
    "    axis[2].plot(len_prob, ga_fes, label='GA')\n",
    "    axis[2].plot(len_prob, sa_fes, label='SA')\n",
    "    axis[2].plot(len_prob, rhc_fes, label='RHC')\n",
    "    axis[2].plot(len_prob, mimic_fes, label='MIMIC')\n",
    "    axis[2].set_xlabel('Problem size')\n",
    "    axis[2].set_ylabel('Function Evaluations')\n",
    "    axis[2].legend()\n",
    "    plt.show()       "
   ]
  }
 ],
 "metadata": {
  "kernelspec": {
   "display_name": "Python 3",
   "language": "python",
   "name": "python3"
  },
  "language_info": {
   "codemirror_mode": {
    "name": "ipython",
    "version": 3
   },
   "file_extension": ".py",
   "mimetype": "text/x-python",
   "name": "python",
   "nbconvert_exporter": "python",
   "pygments_lexer": "ipython3",
   "version": "3.8.8"
  }
 },
 "nbformat": 4,
 "nbformat_minor": 5
}
